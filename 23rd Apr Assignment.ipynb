{
 "cells": [
  {
   "cell_type": "markdown",
   "id": "e6b651a2-1f70-4f81-bfb6-b57033f8839f",
   "metadata": {},
   "source": [
    "# 23rd April Assignment"
   ]
  },
  {
   "cell_type": "code",
   "execution_count": null,
   "id": "579feea7-b5cd-4047-a565-c63a3d3182bf",
   "metadata": {},
   "outputs": [],
   "source": []
  },
  {
   "cell_type": "markdown",
   "id": "d69d0203-33dc-4043-a03b-41077019625a",
   "metadata": {},
   "source": [
    "## Q1. What is the curse of dimensionality reduction and why is it important in machine learning?"
   ]
  },
  {
   "cell_type": "markdown",
   "id": "dc0eb7ce-d0e0-48a1-a686-8862671a4344",
   "metadata": {},
   "source": [
    "Curse of dimensionality says that, if we have too many features so model will learnn unneccessary pattarns and relationship.\n",
    "\n",
    "Because of it model's performance can decrease.\n",
    "\n",
    "* It is important to remove,if we want model that performs well."
   ]
  },
  {
   "cell_type": "code",
   "execution_count": null,
   "id": "3ddd2aa2-68b8-4f66-b810-b78f4f078a7a",
   "metadata": {},
   "outputs": [],
   "source": []
  },
  {
   "cell_type": "markdown",
   "id": "e945b128-2f69-4e89-b9b4-566bf9b36d8a",
   "metadata": {},
   "source": [
    "## Q2. How does the curse of dimensionality impact the performance of machine learning algorithms?"
   ]
  },
  {
   "cell_type": "markdown",
   "id": "a73180f4-0468-442b-b8c5-306fc94fba35",
   "metadata": {},
   "source": [
    "Curse of dimensionality is basically a high dimensional feature problem.\n",
    "\n",
    "If we have high dimensional features so model becomes computationaly expensive.\n",
    "\n",
    "Accuracy can decrease.\n",
    "\n",
    "It will become time consuming."
   ]
  },
  {
   "cell_type": "code",
   "execution_count": null,
   "id": "f24cfaa4-c805-4609-addc-6901c59718ec",
   "metadata": {},
   "outputs": [],
   "source": []
  },
  {
   "cell_type": "markdown",
   "id": "d5a1accd-c9fc-4727-83b5-58a82f5275f6",
   "metadata": {},
   "source": [
    "## Q3. What are some of the consequences of the curse of dimensionality in machine learning, and how do they impact model performance?"
   ]
  },
  {
   "cell_type": "markdown",
   "id": "290f6b81-9ed0-42c1-a5ca-60a0e0e164c7",
   "metadata": {},
   "source": [
    "1. Available data becomes sparser.\n",
    "\n",
    "2. Computational cost can increase.\n",
    "\n",
    "3. When number of features increase discriminatory power of individual features diminishes.\n",
    "\n",
    "4. Overfitting\n",
    "\n",
    "5. Sample size diminishes with increasing dimesionality."
   ]
  },
  {
   "cell_type": "code",
   "execution_count": null,
   "id": "052c6686-08a9-49eb-aea4-b258e6953243",
   "metadata": {},
   "outputs": [],
   "source": []
  },
  {
   "cell_type": "markdown",
   "id": "55183df2-d9f2-431e-8a7f-f3f1482ec690",
   "metadata": {},
   "source": [
    "## Q4. Can you explain the concept of feature selection and how it can help with dimensionality reduction?"
   ]
  },
  {
   "cell_type": "markdown",
   "id": "60a4d28c-d4e0-4abd-9b65-c01d5900b7e3",
   "metadata": {},
   "source": [
    "In feature selection we choose most important features to train the data.\n",
    "\n",
    "The major problem is that, we neglect the feature and that is data lose.\n",
    "\n",
    "And in dimensionality reduction we try to fetch as many data as possible on pricipale components.\n",
    "\n",
    "We will choose only those principale components that contains most variance."
   ]
  },
  {
   "cell_type": "code",
   "execution_count": null,
   "id": "933b3bdd-281f-43e0-9541-8d620cf43e4a",
   "metadata": {},
   "outputs": [],
   "source": []
  },
  {
   "cell_type": "markdown",
   "id": "31383ab9-54c7-46c5-95d5-bc90be58c351",
   "metadata": {},
   "source": [
    "## Q5. What are some limitations and drawbacks of using dimensionality reduction techniques in machine learning?"
   ]
  },
  {
   "cell_type": "markdown",
   "id": "8bbd6c62-2e73-4528-b60d-f997ad0b97ee",
   "metadata": {},
   "source": [
    "Dimensionality reduction involve projecting high dimensional data on low dimensional subspace,that can become cause of data lossing.\n",
    "\n",
    "When we are dealing with non-linear techniques, representation of reduced dimensions can become complex.\n",
    "\n",
    "Dimensionality reduction technique assumes linear relationship between featuers.\n",
    "\n",
    "Non-linear relationship in the data may not be captured effectively by linear dimensionality reduction technique.\n",
    "\n",
    "It is sensitive to outliers.\n",
    "\n",
    "In some cases reduced dimensions may still suffer from curse of dimensionality.\n",
    "\n",
    "Some methods preserve local structure over global structure and vice versa."
   ]
  },
  {
   "cell_type": "code",
   "execution_count": null,
   "id": "46dee93e-2eef-4bc6-ba83-8f2fa4079d71",
   "metadata": {},
   "outputs": [],
   "source": []
  },
  {
   "cell_type": "markdown",
   "id": "91369355-444d-4ebf-b2db-e1b9768fcd71",
   "metadata": {},
   "source": [
    "## Q6. How does the curse of dimensionality relate to overfitting and underfitting in machine learning?"
   ]
  },
  {
   "cell_type": "markdown",
   "id": "ff190139-959e-4b27-83a5-9bfc60dbc7c4",
   "metadata": {},
   "source": [
    "* Overfitting\n",
    "\n",
    "In high dimensional spaces,data becomes sparser, and the risk of overfitting increase.\n",
    "\n",
    "With more features, model has capacity to fit more noise, leading to higher liklyhood overfitting.\n",
    "\n",
    "* Underfitting\n",
    "\n",
    "High dimensional data are complex, so we need more expressive model to compute it.\n",
    "\n",
    "Simple model may struggle to capture intricate realtionship of features."
   ]
  },
  {
   "cell_type": "code",
   "execution_count": null,
   "id": "fc17fc8b-956f-4ef5-9749-e58282d6f70f",
   "metadata": {},
   "outputs": [],
   "source": []
  },
  {
   "cell_type": "markdown",
   "id": "d40209e4-ce58-41b9-88ca-6b524c09c243",
   "metadata": {},
   "source": [
    "## Q7. How can one determine the optimal number of dimensions to reduce data to when using dimensionality reduction techniques?"
   ]
  },
  {
   "cell_type": "markdown",
   "id": "e59f906c-2ab3-4e46-96d8-0032deb58772",
   "metadata": {},
   "source": [
    "Create a scree plot that denotes the variance of each dimension.\n",
    "\n",
    "Using cross-validation evaluate the performance of model using different dimension values."
   ]
  }
 ],
 "metadata": {
  "kernelspec": {
   "display_name": "Python 3 (ipykernel)",
   "language": "python",
   "name": "python3"
  },
  "language_info": {
   "codemirror_mode": {
    "name": "ipython",
    "version": 3
   },
   "file_extension": ".py",
   "mimetype": "text/x-python",
   "name": "python",
   "nbconvert_exporter": "python",
   "pygments_lexer": "ipython3",
   "version": "3.10.8"
  }
 },
 "nbformat": 4,
 "nbformat_minor": 5
}
